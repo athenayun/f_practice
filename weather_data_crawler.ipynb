{
 "cells": [
  {
   "cell_type": "markdown",
   "metadata": {},
   "source": [
    "### import needed packages"
   ]
  },
  {
   "cell_type": "code",
   "execution_count": 2,
   "metadata": {},
   "outputs": [],
   "source": [
    "import requests as r\n",
    "from bs4 import BeautifulSoup\n",
    "import urllib.parse\n",
    "import pandas as pd\n",
    "\n"
   ]
  },
  {
   "cell_type": "markdown",
   "metadata": {},
   "source": [
    "###  making a list of column name\n",
    "which doesn't need to be iterated every time <br>\n",
    "list name : column_names"
   ]
  },
  {
   "cell_type": "code",
   "execution_count": 3,
   "metadata": {},
   "outputs": [
    {
     "data": {
      "text/plain": [
       "['date',\n",
       " '觀測時間 (LST) ObsTime',\n",
       " '測站氣壓 (hPa) StnPres',\n",
       " '海平面氣壓 (hPa) SeaPres',\n",
       " '氣溫 (℃) Temperature',\n",
       " '露點溫度 (℃) Td dew point',\n",
       " '相對溼度 (%) RH',\n",
       " '風速 (m/s) WS',\n",
       " '風向 (360degree) WD',\n",
       " '最大陣風 (m/s) WSGust',\n",
       " '最大陣風風向 (360degree) WDGust',\n",
       " '降水量 (mm) Precp',\n",
       " '降水時數 (hr) PrecpHour ',\n",
       " '日照時數 (hr) SunShine',\n",
       " '全天空日射量 (MJ/㎡) GloblRad',\n",
       " '能見度 (km) Visb']"
      ]
     },
     "execution_count": 3,
     "metadata": {},
     "output_type": "execute_result"
    }
   ],
   "source": [
    "# making a fixed column names list\n",
    "\n",
    "column_name_unformat = []\n",
    "column_names = []\n",
    "\n",
    "column_names.append('date') \n",
    "\n",
    "# getting the url\n",
    "page_url = \"http://e-service.cwb.gov.tw/HistoryDataQuery/DayDataController.do?command=viewMain&station=C0A9G0&stname=%25E5%258D%2597%25E6%25B8%25AF&datepicker=2016-02-01\"\n",
    "res = r.get(page_url)\n",
    "res.encoding = 'utf-8' # 調整Response obect的encoding，不然中文是亂碼\n",
    "soup = BeautifulSoup(res.text, 'html5lib')\n",
    "\n",
    "for i in range(9, 24):\n",
    "    col_title_unformat = soup.select(\"th\")[i]\n",
    "    col_title = \"%s\"%col_title_unformat\n",
    "    \n",
    "    column_name_unformat.append(col_title)\n",
    "    #col_title = col_title.split(\"<th>\")[1]\n",
    "    #print(col_title)\n",
    "\n",
    "\n",
    "for i in column_name_unformat :\n",
    "    col_title = i.split('<th>')[1].split(\"</th>\")[0].replace(\"<br/>\", \" \")\n",
    "    \n",
    "    column_names.append(col_title)\n",
    "    \n",
    "    #print(col_title)\n",
    "\n",
    "   \n",
    "column_names"
   ]
  },
  {
   "cell_type": "markdown",
   "metadata": {},
   "source": [
    "### making a crawler that can crawl over date pages (for a whole month)"
   ]
  },
  {
   "cell_type": "code",
   "execution_count": null,
   "metadata": {},
   "outputs": [],
   "source": [
    "page_url = \"http://e-service.cwb.gov.tw/HistoryDataQuery/DayDataController.do?command=viewMain&station=C0A9G0&stname=%25E5%258D%2597%25E6%25B8%25AF&datepicker={}\"\n",
    "date = []\n",
    "\n",
    "for i in range(1, 30) :\n",
    "    if i<10 :\n",
    "        i = \"0\"+\"%s\"%i\n",
    "    #print(i)\n",
    "    \n",
    "    feb_date = \"2016-02-%s\"%i\n",
    "    \n",
    "    feb_page = page_url.format(feb_date)\n",
    "    #print(feb_page)\n",
    "    \n",
    "    dates = \"2016/02/{}\"\n",
    "    date_each = dates.format(i)\n",
    "    date.append(date_each)\n",
    "    \n",
    "    feb_res = r.get(feb_page)\n",
    "    feb_res.encoding = \"utf-8\"\n",
    "    soup = BeautifulSoup(feb_res.text, 'html5lib')\n",
    "     \n",
    "    "
   ]
  }
 ],
 "metadata": {
  "kernelspec": {
   "display_name": "Python 3",
   "language": "python",
   "name": "python3"
  },
  "language_info": {
   "codemirror_mode": {
    "name": "ipython",
    "version": 3
   },
   "file_extension": ".py",
   "mimetype": "text/x-python",
   "name": "python",
   "nbconvert_exporter": "python",
   "pygments_lexer": "ipython3",
   "version": "3.6.4"
  }
 },
 "nbformat": 4,
 "nbformat_minor": 2
}
