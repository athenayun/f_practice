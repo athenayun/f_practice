{
 "cells": [
  {
   "cell_type": "markdown",
   "metadata": {},
   "source": [
    "### import needed packages"
   ]
  },
  {
   "cell_type": "code",
   "execution_count": 1,
   "metadata": {},
   "outputs": [],
   "source": [
    "import requests as r\n",
    "from bs4 import BeautifulSoup\n",
    "import urllib.parse\n",
    "import pandas as pd\n",
    "import pprint\n",
    "\n"
   ]
  },
  {
   "cell_type": "markdown",
   "metadata": {},
   "source": [
    "###  making a list of column name\n",
    "which doesn't need to be iterated every time <br>\n",
    "list name : column_names"
   ]
  },
  {
   "cell_type": "code",
   "execution_count": 2,
   "metadata": {},
   "outputs": [
    {
     "data": {
      "text/plain": [
       "['date',\n",
       " '觀測時間 (LST) ObsTime',\n",
       " '測站氣壓 (hPa) StnPres',\n",
       " '海平面氣壓 (hPa) SeaPres',\n",
       " '氣溫 (℃) Temperature',\n",
       " '露點溫度 (℃) Td dew point',\n",
       " '相對溼度 (%) RH',\n",
       " '風速 (m/s) WS',\n",
       " '風向 (360degree) WD',\n",
       " '最大陣風 (m/s) WSGust',\n",
       " '最大陣風風向 (360degree) WDGust',\n",
       " '降水量 (mm) Precp',\n",
       " '降水時數 (hr) PrecpHour ',\n",
       " '日照時數 (hr) SunShine',\n",
       " '全天空日射量 (MJ/㎡) GloblRad',\n",
       " '能見度 (km) Visb']"
      ]
     },
     "execution_count": 2,
     "metadata": {},
     "output_type": "execute_result"
    }
   ],
   "source": [
    "# making a fixed column names list\n",
    "\n",
    "column_name_unformat = []\n",
    "column_names = []\n",
    "\n",
    "column_names.append('date') \n",
    "\n",
    "# getting the url\n",
    "page_url = \"http://e-service.cwb.gov.tw/HistoryDataQuery/DayDataController.do?command=viewMain&station=C0A9G0&stname=%25E5%258D%2597%25E6%25B8%25AF&datepicker=2016-02-01\"\n",
    "res = r.get(page_url)\n",
    "res.encoding = 'utf-8' # 調整Response obect的encoding，不然中文是亂碼\n",
    "soup = BeautifulSoup(res.text, 'html5lib')\n",
    "\n",
    "for i in range(9, 24):\n",
    "    col_title_unformat = soup.select(\"th\")[i]\n",
    "    col_title = \"%s\"%col_title_unformat\n",
    "    \n",
    "    column_name_unformat.append(col_title)\n",
    "    #col_title = col_title.split(\"<th>\")[1]\n",
    "    #print(col_title)\n",
    "\n",
    "\n",
    "for i in column_name_unformat :\n",
    "    col_title = i.split('<th>')[1].split(\"</th>\")[0].replace(\"<br/>\", \" \")\n",
    "    \n",
    "    column_names.append(col_title)\n",
    "    \n",
    "    #print(col_title)\n",
    "\n",
    "   \n",
    "column_names"
   ]
  },
  {
   "cell_type": "markdown",
   "metadata": {},
   "source": [
    "### making a crawler that can crawl over date pages (for a whole month)"
   ]
  },
  {
   "cell_type": "code",
   "execution_count": null,
   "metadata": {},
   "outputs": [],
   "source": [
    "page_url = \"http://e-service.cwb.gov.tw/HistoryDataQuery/DayDataController.do?command=viewMain&station=C0A9G0&stname=%25E5%258D%2597%25E6%25B8%25AF&datepicker={}\"\n",
    "date = []\n",
    "\n",
    "month=['jan', 'feb', 'mar', 'apr', 'may', 'jun', 'jul', 'aug', 'sep', 'oct', 'nov', 'dec']\n",
    "year = [2015, 2016]\n",
    "\n",
    "for y in year :\n",
    "    \n",
    "    \n",
    "\n",
    "    for m in range(1,len(month)+1) :\n",
    "        \n",
    "        tr_list = []\n",
    "        \n",
    "        if m<10 :\n",
    "            m = \"0\"+\"%s\"%m\n",
    "        else :\n",
    "            m = \"%s\"%m\n",
    "        #print(m)\n",
    "    \n",
    "        if y == year[0] :\n",
    "            if m in ['01', '03', '05', '07', '08', '10', '12'] :\n",
    "                day = 31\n",
    "            elif m == '02' :\n",
    "                day = 28\n",
    "            elif m in ['04', '06', '09', '11'] :\n",
    "                day = 30\n",
    "            \n",
    "            \n",
    "        elif y == year[1] :\n",
    "            if m in ['01', '03', '05', '07', '08', '10', '12'] :\n",
    "                day = 31\n",
    "            elif m == '02' :\n",
    "                day = 29\n",
    "            elif m in ['04', '06', '09', '11'] :\n",
    "                day = 30\n",
    "            \n",
    "            \n",
    "        \n",
    "        \n",
    "    \n",
    "        \n",
    "    \n",
    "        for d in range(1, day+1) :\n",
    "            #print('======={}===={}============='.format(y, m))\n",
    "            if d<10 :\n",
    "                d = \"0\"+\"%s\"%d\n",
    "        \n",
    "            #print(d)\n",
    "        \n",
    "            \n",
    "            ymd_date = \"{}-{}-{}\".format(y, m, d)\n",
    "            #print(ymd_date)\n",
    "        \n",
    "            \n",
    "            each_page = page_url.format(ymd_date)\n",
    "            #print(each_page)\n",
    "            \n",
    "            each_res = r.get(each_page)\n",
    "            each_res.encoding = \"utf-8\"\n",
    "            soup = BeautifulSoup(each_res.text, 'html5lib')\n",
    "            \n",
    "            # getting out the data\n",
    "            # every hour in one day\n",
    "            try :\n",
    "                for i in range(3, 27):\n",
    "                                                       \n",
    "                    ii =soup.select(\"tr\" )[i]\n",
    "                    tr_set = \"%s\"%ii\n",
    "                    tr_set = tr_set.replace(\"\\n\\t\\t\", \"\").replace(\"\\xa0\", \"\").replace(\"<tr>\", \"\")\\\n",
    "                    .replace(\"</tr>\", \"\").replace('<td nowrap=\"\">', \"\").replace(\"</td>\", \",\").replace(\"<td>\", \"\")\\\n",
    "                    .replace(\"\\t\", \"\").replace(\"\\n\\t\", '').replace('\\n', '').replace(\" \", \"\")\n",
    "                    # tr_set is still a string now\n",
    "                    tr_set = tr_set.split(\",\") \n",
    "                    # for this time, after the action of splitting, tr_set becomes a list !\n",
    "                    \n",
    "                    tr_set.insert(0,ymd_date)\n",
    "                    tr_set.pop(16)\n",
    "                    tr_list.append(tr_set)\n",
    "            except :\n",
    "                print(\"no record for %s\"%ymd_date)\n",
    "                continue\n",
    "                \n",
    "        #tr_list\n",
    "        df = pd.DataFrame(tr_list , columns = column_names)\n",
    "        \n",
    "        #print(df)\n",
    "        m = int(m)\n",
    "        #print(m)\n",
    "        df.to_csv('./data/{}_{}{}_weather_data.csv'.format(y, m, month[m-1]))\n"
   ]
  }
 ],
 "metadata": {
  "kernelspec": {
   "display_name": "Python 3",
   "language": "python",
   "name": "python3"
  },
  "language_info": {
   "codemirror_mode": {
    "name": "ipython",
    "version": 3
   },
   "file_extension": ".py",
   "mimetype": "text/x-python",
   "name": "python",
   "nbconvert_exporter": "python",
   "pygments_lexer": "ipython3",
   "version": "3.6.4"
  }
 },
 "nbformat": 4,
 "nbformat_minor": 2
}
